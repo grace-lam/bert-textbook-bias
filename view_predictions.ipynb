{
 "cells": [
  {
   "cell_type": "markdown",
   "id": "fac88c56",
   "metadata": {},
   "source": [
    "## Load tokenizer & output files"
   ]
  },
  {
   "cell_type": "code",
   "execution_count": null,
   "id": "3316b41d",
   "metadata": {},
   "outputs": [],
   "source": [
    "from predict_mask import read_context_windows\n",
    "\n",
    "outputs_dir = 'pred_textbook_contexts/'\n",
    "plow_results = read_context_windows(outputs_dir + 'pr_low.txt')\n",
    "pmed_results = read_context_windows(outputs_dir + 'pr_med.txt')\n",
    "phigh_results = read_context_windows(outputs_dir + 'pr_high.txt')"
   ]
  },
  {
   "cell_type": "code",
   "execution_count": null,
   "id": "0823ec08",
   "metadata": {},
   "outputs": [],
   "source": [
    "import torch\n",
    "from transformers import AutoTokenizer\n",
    "\n",
    "pretrained_model_dir = 'bert-base-uncased'\n",
    "tokenizer = AutoTokenizer.from_pretrained(pretrained_model_dir)"
   ]
  },
  {
   "cell_type": "markdown",
   "id": "a4c37d77",
   "metadata": {},
   "source": [
    "## Group 1 (pr_low.txt): high confidence, incorrect gender prediction"
   ]
  },
  {
   "cell_type": "code",
   "execution_count": null,
   "id": "eb07610e",
   "metadata": {},
   "outputs": [],
   "source": [
    "for tokens_tensor, segments_tensor, tokenized_text, mask_info, norm_prob, top5_preds in plow_results:\n",
    "    print('Input context:')\n",
    "    print(tokenizer.decode(tokens_tensor[0]))\n",
    "    print(f'\\ngender_index, query_index, gender_word, query_word: {mask_info}')\n",
    "    print(f'\\nNormalized probability of the correct gender prediction (pr(correct_gender) / (pr(correct_gender) + pr(wrong_gender)): {norm_prob}')\n",
    "    print(f'\\nTop 5 predictions for [MASK]: {top5_preds}\\n\\n')"
   ]
  },
  {
   "cell_type": "markdown",
   "id": "854e8d57",
   "metadata": {},
   "source": [
    "## Group 2 (pr_med.txt): low confidence"
   ]
  },
  {
   "cell_type": "code",
   "execution_count": null,
   "id": "74aa77ae",
   "metadata": {},
   "outputs": [],
   "source": [
    "for tokens_tensor, segments_tensor, tokenized_text, mask_info, norm_prob, top5_preds in pmed_results:\n",
    "    print('Input context:')\n",
    "    print(tokenizer.decode(tokens_tensor[0]))\n",
    "    print(f'\\ngender_index, query_index, gender_word, query_word: {mask_info}')\n",
    "    print(f'\\nNormalized probability of the correct gender prediction (pr(correct_gender) / (pr(correct_gender) + pr(wrong_gender)): {norm_prob}')\n",
    "    print(f'\\nTop 5 predictions for [MASK]: {top5_preds}\\n\\n')"
   ]
  },
  {
   "cell_type": "markdown",
   "id": "4696c381",
   "metadata": {},
   "source": [
    "## Group 3 (pr_high.txt): high confidence, correct gender prediction"
   ]
  },
  {
   "cell_type": "code",
   "execution_count": null,
   "id": "e0a48754",
   "metadata": {},
   "outputs": [],
   "source": [
    "for tokens_tensor, segments_tensor, tokenized_text, mask_info, norm_prob, top5_preds in phigh_results:\n",
    "    print('Input context:')\n",
    "    print(tokenizer.decode(tokens_tensor[0]))\n",
    "    print(f'\\ngender_index, query_index, gender_word, query_word: {mask_info}')\n",
    "    print(f'\\nNormalized probability of the correct gender prediction (pr(correct_gender) / (pr(correct_gender) + pr(wrong_gender)): {norm_prob}')\n",
    "    print(f'\\nTop 5 predictions for [MASK]: {top5_preds}\\n\\n')"
   ]
  },
  {
   "cell_type": "code",
   "execution_count": null,
   "id": "fecf90a9",
   "metadata": {},
   "outputs": [],
   "source": []
  }
 ],
 "metadata": {
  "kernelspec": {
   "display_name": "Python 3 (ipykernel)",
   "language": "python",
   "name": "python3"
  },
  "language_info": {
   "codemirror_mode": {
    "name": "ipython",
    "version": 3
   },
   "file_extension": ".py",
   "mimetype": "text/x-python",
   "name": "python",
   "nbconvert_exporter": "python",
   "pygments_lexer": "ipython3",
   "version": "3.8.0"
  }
 },
 "nbformat": 4,
 "nbformat_minor": 5
}
